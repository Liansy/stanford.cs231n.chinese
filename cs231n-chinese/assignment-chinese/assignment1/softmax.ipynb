{
 "cells": [
  {
   "cell_type": "markdown",
   "metadata": {},
   "source": [
    "# Softmax 训练\n",
    "\n",
    "本练习和之前的SVM练习类似，将会:\n",
    "- 对于 Softmax 分类器实现全向量化的 loss 函数\n",
    "- 对于损失函数的分析梯度（牛顿莱布尼茨公式）实现全想量化的表达式\n",
    "- 使用数值梯度（采用定义式）来检查分析题度的实现"
   ]
  }
 ],
 "metadata": {
  "kernelspec": {
   "display_name": "Python 2",
   "language": "python",
   "name": "python2"
  },
  "language_info": {
   "codemirror_mode": {
    "name": "ipython",
    "version": 2
   },
   "file_extension": ".py",
   "mimetype": "text/x-python",
   "name": "python",
   "nbconvert_exporter": "python",
   "pygments_lexer": "ipython2",
   "version": "2.7.14"
  }
 },
 "nbformat": 4,
 "nbformat_minor": 2
}
