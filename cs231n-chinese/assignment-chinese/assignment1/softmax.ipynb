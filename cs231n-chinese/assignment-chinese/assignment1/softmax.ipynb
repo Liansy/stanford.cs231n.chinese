{
 "cells": [
  {
   "cell_type": "markdown",
   "metadata": {},
   "source": [
    "# Softmax 训练\n",
    "\n",
    "本练习和之前的SVM练习类似，将会:\n",
    "- 对于 Softmax 分类器实现全向量化的损失函数\n",
    "- 对于损失函数的分析梯度（牛顿莱布尼茨公式）实现全想量化的表达式\n",
    "- 使用数值梯度（采用定义式）来检查分析梯度的实现是否正确\n",
    "- 使用一个验证集来调整学习率和正则化强度以及其他参数\n",
    "- 使用随机梯度下降来优化损失函数\n",
    "- 可视化最终的学习权重值"
   ]
  },
  {
   "cell_type": "code",
   "execution_count": null,
   "metadata": {
    "collapsed": true
   },
   "outputs": [],
   "source": [
    "import random \n",
    "import numpy as np\n",
    "from cs231n.data_utils import load_CIFAR10\n",
    "import matplotlib.pyplot as plt\n",
    "%matplotlib inline\n",
    "plt.rcParams['figure.figsize'] = (10.0, 8.0) # 设置各个图\n",
    "plt.rcParams['image.interpolation'] = 'nearest'\n",
    "plt.rcParams['image.cmap'] = 'gray'\n",
    "\n",
    "# for auto-reloading extenrnal modules\n",
    "# see http://stackoverflow.com/questions/1907993/autoreload-of-modules-in-ipython\n",
    "%load_ext autoreload\n",
    "%autoreload 2"
   ]
  }
 ],
 "metadata": {
  "kernelspec": {
   "display_name": "Python 2",
   "language": "python",
   "name": "python2"
  },
  "language_info": {
   "codemirror_mode": {
    "name": "ipython",
    "version": 2
   },
   "file_extension": ".py",
   "mimetype": "text/x-python",
   "name": "python",
   "nbconvert_exporter": "python",
   "pygments_lexer": "ipython2",
   "version": "2.7.14"
  }
 },
 "nbformat": 4,
 "nbformat_minor": 2
}
