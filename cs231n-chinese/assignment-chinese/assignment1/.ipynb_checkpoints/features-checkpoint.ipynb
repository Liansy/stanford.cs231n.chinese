{
 "cells": [
  {
   "cell_type": "markdown",
   "metadata": {},
   "source": [
    "# 数字图像特征练习(Image features exercise)\n",
    "\n",
    "*完成并提交本作业（包括代码输出和作业之外的所有支持代码）。 有关更多详情，请参阅课程网站上的[作业提交页面](http://vision.stanford.edu/teaching/cs231n/assignments.html)。*\n",
    "\n",
    "通过训练输入图像的像素上的线性分类器，我们可以在图像分类任务上达到较好的效果。 在本次练习中，我们将要提高分类的性能，同样是训练线性分类器，但是不是基于在原始的像素，而是基于从原始像素上计算得到的特征(features)。\n",
    "\n",
    "本练习的所有工作都将在这个notebook上完成。"
   ]
  },
  {
   "cell_type": "code",
   "execution_count": 1,
   "metadata": {
    "collapsed": true
   },
   "outputs": [],
   "source": [
    "import random \n",
    "import numpy as np\n",
    "from cs231n.data_utils import load_CIFAR10\n",
    "import matplotlib.pyplot as plt\n",
    "%matplotlib inline\n",
    "plt.rcParams['figure.figsize']=(10.0, 8.0) # 设置图的大小\n",
    "plt.rcParams['image.interpolation'] = 'nearest'\n",
    "plt.rcParams['image.cmap'] = 'gray'\n",
    "\n",
    "# 对于自动加载的外部模块\n",
    "# 详见 http://stackoverflow.com/questions/1907993/autoreload-of-modules-in-ipython\n",
    "%load_ext autoreload\n",
    "%autoreload"
   ]
  },
  {
   "cell_type": "code",
   "execution_count": null,
   "metadata": {
    "collapsed": true
   },
   "outputs": [],
   "source": []
  },
  {
   "cell_type": "markdown",
   "metadata": {},
   "source": [
    "## 加载数据\n",
    "\n",
    "和之前的练习类似，我们将会从磁盘存储上加载 CIFAR-10 数据集。\n"
   ]
  },
  {
   "cell_type": "code",
   "execution_count": 2,
   "metadata": {
    "collapsed": true
   },
   "outputs": [],
   "source": [
    "from cs231n.features import color_histogram_hsv, hog_feature\n",
    "\n",
    "def get_CIFAR10_DATA(num_training=49000, num_validation=1000, num_test=1000):\n",
    "    # 加载 CIFAR-10 数据\n",
    "    cifar10_dir = 'cs231n/datasets/cifar-10-batches-py'\n",
    "    X_train, y_train, X_test, y_test = load_CIFAR10(cifar10_dir)\n",
    "    \n",
    "    #对数据进行子采样\n",
    "    mask = range(num_training, num_training + num_validation)\n",
    "    X_val = X_train[mask]\n",
    "    y_val = y_train[mask]\n",
    "    mask = range(num_training)\n",
    "    X_train = X_train[mask]\n",
    "    y_train = y_train[mask]\n",
    "    mask = range(num_test)\n",
    "    X_test = X_test[mask]\n",
    "    y_test = y_test[mask]\n",
    "    \n",
    "    return X_train, y_train, X_val, y_val, X_test, y_test\n",
    "\n",
    "# 训练集 验证集 测试集\n",
    "X_train, y_train, X_val, y_val, X_test, y_test = get_CIFAR10_DATA()    "
   ]
  },
  {
   "cell_type": "code",
   "execution_count": 8,
   "metadata": {},
   "outputs": [
    {
     "name": "stdout",
     "output_type": "stream",
     "text": [
      "训练集大输入 X_train 大小：(49000L, 32L, 32L, 3L)\n",
      "训练集标签 y_train 大小：(49000L,)\n",
      "验证集大输入 X_val 大小：(1000L, 32L, 32L, 3L)\n",
      "验证集标签 y_val 大小：(1000L,)\n",
      "测试集大输入 X_test 大小：(1000L, 32L, 32L, 3L)\n",
      "测试集标签 y_test 大小：(1000L,)\n"
     ]
    }
   ],
   "source": [
    "print(u\"训练集大输入 X_train 大小：\"+str(X_train.shape))\n",
    "print(u\"训练集标签 y_train 大小：\"+str(y_train.shape))\n",
    "\n",
    "print(u\"验证集大输入 X_val 大小：\"+str(X_val.shape))\n",
    "print(u\"验证集标签 y_val 大小：\"+str(y_val.shape))\n",
    "\n",
    "print(u\"测试集大输入 X_test 大小：\"+str(X_test.shape))\n",
    "print(u\"测试集标签 y_test 大小：\"+str(y_test.shape))\n"
   ]
  },
  {
   "cell_type": "markdown",
   "metadata": {},
   "source": [
    "## 提取特征\n",
    "\n",
    "对于每一幅图像，我们将计算出其面向方向梯度的直方图（HOG，a Histogram of Oriented Gradients）以及其使用HSV颜色空间中的色调通道的颜色直方图（a color histogram using the hue channel in HSV color space）。我们通过连接HOG和颜色直方图特征向量来形成每个图像的最终特征向量。\n",
    "\n",
    "总的来说，HOG能够描述图像的纹理而忽略其颜色信息，颜色直方图能表征输入图像的颜色而忽略其纹理。 因此，我们期望两者结合使用应该比单独使用更好。 验证这个假设对于附加部分（译者注：本门课程的附加题）来说很有帮助。\n",
    "\n",
    "hog_feature和color_histogram_hsv函数参数都是单幅图像，返回的是该图像的特征向量。 extract_features函数参数是一个图像集合和特征函数列表，并评估每幅图像上的每个特征函数，将结果存储在矩阵中，其中每列是单个图像的所有特征向量的拼接。"
   ]
  },
  {
   "cell_type": "markdown",
   "metadata": {},
   "source": [
    "## 在特征中训练支持向量机（Support Vector Machine, SVM）\n",
    "\n",
    "基于提取的特征训练 SVM，其中用的是前面作业所实现的多种 SVM 实现代码 ；这将比直接在原始像素上直接训练 SVM 能获得更好的结果。"
   ]
  },
  {
   "cell_type": "markdown",
   "metadata": {},
   "source": [
    "## 基于图像特征的神经网络\n",
    "\n",
    "我们已经看到在原始像素上训练两层神经网络比直接在原始像素线性分类器有更好的分类效果。通过本编程任务我们能够知道，基于图像特征的线性分类器效果又优于基于原始像素的线性分类器。"
   ]
  },
  {
   "cell_type": "markdown",
   "metadata": {},
   "source": [
    "## 附加任务：设计自己的特征\n",
    "\n",
    "看到了吧，简单的图像特征就可以提高计算机对图像分类的表现。目前我们尝试了使用 HOG 和 颜色直方图，有没有更好的特征来得到更好的分类效果呢？\n",
    "\n",
    "作为奖励分数，设计一种新的特征，将其用于在 CIFAR-10 的图像分类任务中，解释你的特征是如何生效的以及其为什么能够其能提升分类性能。在本 notebook 中实现它，交叉验证任何必须的超参数，并将其得到的模型性能指标和通过 HOG+彩色直方图模型得到的性能进行对比。"
   ]
  },
  {
   "cell_type": "markdown",
   "metadata": {},
   "source": [
    "## 附加任务：额外的挑战\n",
    "\n",
    "用编程任务提供的材料和代码来做一些你觉得很有意思的事情，以及你是否还有一些其他的疑问要问呢？在完成这个任务的过程中，你脑中是否迸发出了很棒很酷的点子以及头脑风暴？那么动手将这些想法变成现实！让你在伙伴们面前展示的机会到了！"
   ]
  },
  {
   "cell_type": "code",
   "execution_count": null,
   "metadata": {
    "collapsed": true
   },
   "outputs": [],
   "source": []
  }
 ],
 "metadata": {
  "kernelspec": {
   "display_name": "Python 2",
   "language": "python",
   "name": "python2"
  },
  "language_info": {
   "codemirror_mode": {
    "name": "ipython",
    "version": 2
   },
   "file_extension": ".py",
   "mimetype": "text/x-python",
   "name": "python",
   "nbconvert_exporter": "python",
   "pygments_lexer": "ipython2",
   "version": "2.7.14"
  }
 },
 "nbformat": 4,
 "nbformat_minor": 2
}
