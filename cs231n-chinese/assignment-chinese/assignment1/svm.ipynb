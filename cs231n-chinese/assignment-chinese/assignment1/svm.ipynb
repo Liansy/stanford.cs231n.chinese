{
 "cells": [
  {
   "cell_type": "markdown",
   "metadata": {},
   "source": [
    "# 若干种类的支持向量机之练习(Multiclass Support Vector Machine exercise)\n",
    "\n",
    "本次练习你将会：\n",
    "\n",
    "- 实现“全向量式(fully-vectorized)”的 SVM **损失函数（loss function）**\n",
    "- 实现 SVM 的** 分析梯度（analytic gradient）**“全向量式”表达式\n",
    "- 使用数值梯度（numerical gradient）来检验实现之正确与否\n",
    "- 使用验证集来**调整学习率和正则化强度（译者注：和前面的任务类似）**\n",
    "- 通过**SGD**来**优化**损失函数\n",
    "- **可视化**最终的学习权重"
   ]
  },
  {
   "cell_type": "code",
   "execution_count": 3,
   "metadata": {},
   "outputs": [],
   "source": [
    "import random \n",
    "import numpy as np\n",
    "from cs231n.data_utils import load_CIFAR10\n",
    "import matplotlib.pyplot as plt\n",
    "%matplotlib inline\n",
    "plt.rcParams['figure.figsize'] = (10.0, 8.0)\n",
    "plt.rcParams['image.interpolation'] ='nearest'\n",
    "plt.rcParams['image.cmap'] ='gray'\n",
    "\n",
    "%load_ext autoreload\n",
    "%autoreload 2\n"
   ]
  },
  {
   "cell_type": "markdown",
   "metadata": {},
   "source": [
    "## CIFAR-10 数据加载和预处理"
   ]
  },
  {
   "cell_type": "code",
   "execution_count": 4,
   "metadata": {},
   "outputs": [
    {
     "name": "stdout",
     "output_type": "stream",
     "text": [
      "训练集输入的大小：(50000L, 32L, 32L, 3L)\n",
      "训练集标签的大小：(50000L,)\n",
      "测试集输入的大小：(10000L, 32L, 32L, 3L)\n",
      "测试集标签的大小：(10000L,)\n"
     ]
    }
   ],
   "source": [
    "# 加载原始的CIFAR-10数据\n",
    "cifar10_dir = 'cs231n/datasets/cifar-10-batches-py'\n",
    "X_train, y_train, X_test, y_test = load_CIFAR10(cifar10_dir)\n",
    "# 检查训练集和测试集的大小\n",
    "print(\"训练集输入的大小：\"+str(X_train.shape))\n",
    "print(\"训练集标签的大小：\"+str(y_train.shape))\n",
    "print(\"测试集输入的大小：\"+str(X_test.shape))\n",
    "print(\"测试集标签的大小：\"+str(y_test.shape))"
   ]
  },
  {
   "cell_type": "code",
   "execution_count": null,
   "metadata": {
    "collapsed": true
   },
   "outputs": [],
   "source": [
    "# 将数据集中每个类中抽取几幅来显示\n",
    "classes = ['plane', 'car', 'bird']"
   ]
  }
 ],
 "metadata": {
  "kernelspec": {
   "display_name": "Python 2",
   "language": "python",
   "name": "python2"
  }
 },
 "nbformat": 4,
 "nbformat_minor": 2
}
