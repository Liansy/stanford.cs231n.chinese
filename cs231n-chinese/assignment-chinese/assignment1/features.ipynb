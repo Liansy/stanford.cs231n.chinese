{
 "cells": [
  {
   "cell_type": "markdown",
   "metadata": {},
   "source": [
    "# 数字图像特征练习(Image features exercise)\n",
    "\n",
    "*完成并提交本作业（包括代码输出和作业之外的所有支持代码）。 有关更多详情，请参阅课程网站上的[作业提交页面](http://vision.stanford.edu/teaching/cs231n/assignments.html)。*\n",
    "\n",
    "通过训练输入图像的像素上的线性分类器，我们可以在图像分类任务上达到较好的效果。 在本次练习中，我们将要提高分类的性能，同样是训练线性分类器，但是不是基于在原始的像素，而是基于从原始像素上计算得到的特征(features)。\n",
    "\n",
    "本练习的所有工作都将在这个notebook上完成。"
   ]
  },
  {
   "cell_type": "markdown",
   "metadata": {},
   "source": [
    "## 加载数据\n",
    "\n",
    "和之前的练习类似，我们将会从磁盘存储上加载 CIFAR-10 数据集。\n"
   ]
  },
  {
   "cell_type": "markdown",
   "metadata": {},
   "source": [
    "## 提取特征\n",
    "\n",
    "对于每一幅图像，我们将计算出其面向方向梯度的直方图（HOG，a Histogram of Oriented Gradients）以及其使用HSV颜色空间中的色调通道的颜色直方图（a color histogram using the hue channel in HSV color space）。我们通过连接HOG和颜色直方图特征向量来形成每个图像的最终特征向量。\n",
    "\n",
    "总的来说，HOG能够描述图像的纹理而忽略其颜色信息，颜色直方图能表征输入图像的颜色而忽略其纹理。 因此，我们期望两者结合使用应该比单独使用更好。 验证这个假设对于附加部分（译者注：本门课程的附加题）来说很有帮助。\n",
    "\n",
    "hog_feature和color_histogram_hsv函数参数都是单幅图像，返回的是该图像的特征向量。 extract_features函数参数是一个图像集合和特征函数列表，并评估每幅图像上的每个特征函数，将结果存储在矩阵中，其中每列是单个图像的所有特征向量的拼接。"
   ]
  },
  {
   "cell_type": "markdown",
   "metadata": {},
   "source": [
    "## 在特征中训练支持向量机（Support Vector Machine, SVM）\n",
    "\n",
    "基于提取的特征训练 SVM，其中用的是前面作业所实现的多种 SVM 实现代码 ；这将比直接在原始像素上直接训练 SVM 能获得更好的结果。"
   ]
  },
  {
   "cell_type": "markdown",
   "metadata": {},
   "source": [
    "## 图像特征之上的神经网络\n",
    "\n",
    "我们已经看到在"
   ]
  }
 ],
 "metadata": {
  "kernelspec": {
   "display_name": "Python 2",
   "language": "python",
   "name": "python2"
  },
  "language_info": {
   "codemirror_mode": {
    "name": "ipython",
    "version": 2
   },
   "file_extension": ".py",
   "mimetype": "text/x-python",
   "name": "python",
   "nbconvert_exporter": "python",
   "pygments_lexer": "ipython2",
   "version": "2.7.14"
  }
 },
 "nbformat": 4,
 "nbformat_minor": 2
}
